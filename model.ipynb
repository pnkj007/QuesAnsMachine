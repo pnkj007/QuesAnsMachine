{
 "cells": [
  {
   "cell_type": "code",
   "execution_count": 17,
   "metadata": {},
   "outputs": [],
   "source": [
    "context = \"\"\"Narendra Damodardas Modi (Gujarati pronunciation: [ˈnəɾendrə dɑmodəɾˈdɑs ˈmodiː] (About this soundlisten); \n",
    "born 17 September 1950) is an Indian politician serving as the 14th and current Prime Minister of India since 2014.\n",
    "He was the Chief Minister of Gujarat from 2001 to 2014 and is the Member of Parliament for Varanasi. \n",
    "Modi is a member of the Bharatiya Janata Party (BJP) and of the Rashtriya Swayamsevak Sangh (RSS),\n",
    "a Hindu nationalist volunteer organisation. He is the first prime minister outside of the Indian National \n",
    "Congress to win two consecutive terms with a full majority and the second to complete five years in office after \n",
    "Atal Bihari Vajpayee.[2]\n",
    "\n",
    "Born to a Gujarati family in Vadnagar, Modi helped his father sell tea as a child and has said he later ran his own stall.\n",
    "He was introduced to the RSS at the age of eight, beginning a long association with the organisation. Modi left home after \n",
    "finishing high-school in part due to child marriage to Jashodaben Chimanlal Modi, which he abandoned and publicly acknowledged\n",
    "only many decades later. Modi travelled around India for two years and visited a number of religious centres before returning \n",
    "to Gujarat. In 1971 he became a full-time worker for the RSS. During the state of emergency imposed across the country in 1975,\n",
    "Modi was forced to go into hiding. The RSS assigned him to the BJP in 1985 and he held several positions within the party \n",
    "hierarchy until 2001, rising to the rank of general secretary.\n",
    "\n",
    "Modi was appointed Chief Minister (CM) of Gujarat in 2001 due to Keshubhai Patel's failing health and poor public image \n",
    "following the earthquake in Bhuj. Modi was elected to the legislative assembly soon after. His administration has been \n",
    "considered complicit in the 2002 Gujarat riots,[a] or otherwise criticised for its handling of it. A Supreme Court-appointed\n",
    "Special Investigation Team found no evidence to initiate prosecution proceedings against Modi personally.[b] His policies as\n",
    "chief minister, credited with encouraging economic growth, have received praise.[10] His administration has been criticised \n",
    "for failing to significantly improve health, poverty and education indices in the state.[c]\"\"\""
   ]
  },
  {
   "cell_type": "code",
   "execution_count": 1,
   "metadata": {},
   "outputs": [],
   "source": [
    "import QA_model"
   ]
  },
  {
   "cell_type": "code",
   "execution_count": 2,
   "metadata": {},
   "outputs": [],
   "source": [
    "model = QA_model.QuestionAnsweringModel()"
   ]
  },
  {
   "cell_type": "code",
   "execution_count": 16,
   "metadata": {},
   "outputs": [
    {
     "data": {
      "text/plain": [
       "'an indian politician serving as the 14th and current prime minister of india since 2014 . he was the chief minister of gujarat from 2001 to 2014 and is the member of parliament for varanasi . modi is a member of the bharatiya janata party ( bjp )'"
      ]
     },
     "execution_count": 16,
     "metadata": {},
     "output_type": "execute_result"
    }
   ],
   "source": [
    "model.predict('who is modi?', context)"
   ]
  },
  {
   "cell_type": "code",
   "execution_count": 3,
   "metadata": {},
   "outputs": [],
   "source": [
    "import os\n",
    "from flask import Flask,request, jsonify, render_template"
   ]
  },
  {
   "cell_type": "code",
   "execution_count": 5,
   "metadata": {},
   "outputs": [
    {
     "name": "stdout",
     "output_type": "stream",
     "text": [
      " * Serving Flask app \"__main__\" (lazy loading)\n",
      " * Environment: production\n",
      "   WARNING: This is a development server. Do not use it in a production deployment.\n",
      "   Use a production WSGI server instead.\n",
      " * Debug mode: off\n"
     ]
    },
    {
     "name": "stderr",
     "output_type": "stream",
     "text": [
      " * Running on http://127.0.0.1:5000/ (Press CTRL+C to quit)\n",
      "127.0.0.1 - - [17/Aug/2020 11:29:57] \"\u001b[37mGET / HTTP/1.1\u001b[0m\" 200 -\n",
      "127.0.0.1 - - [17/Aug/2020 11:30:23] \"\u001b[37mPOST /templates HTTP/1.1\u001b[0m\" 200 -\n"
     ]
    }
   ],
   "source": [
    "app = Flask(__name__)\n",
    "@app.route('/templates', methods=['GET','POST'])\n",
    "def get_ans():\n",
    "    if request.method == 'POST':\n",
    "        Question = request.form['Question']\n",
    "        Context = request.form['Context']\n",
    "        \n",
    "        output_summary = model.predict(Question, Context)\n",
    "        \n",
    "        return render_template('index.html', output_summary = output_summary)\n",
    "\n",
    "@app.route('/')\n",
    "def homepage():\n",
    "    title = \"TEXT summarizer\"\n",
    "    return render_template('index.html', title = title)\n",
    "\n",
    "if __name__ == \"__main__\":\n",
    "    app.run()"
   ]
  },
  {
   "cell_type": "code",
   "execution_count": null,
   "metadata": {},
   "outputs": [],
   "source": []
  },
  {
   "cell_type": "code",
   "execution_count": null,
   "metadata": {},
   "outputs": [],
   "source": []
  },
  {
   "cell_type": "code",
   "execution_count": null,
   "metadata": {},
   "outputs": [],
   "source": []
  },
  {
   "cell_type": "code",
   "execution_count": null,
   "metadata": {},
   "outputs": [],
   "source": []
  },
  {
   "cell_type": "code",
   "execution_count": 2,
   "metadata": {},
   "outputs": [],
   "source": []
  },
  {
   "cell_type": "code",
   "execution_count": null,
   "metadata": {},
   "outputs": [],
   "source": []
  },
  {
   "cell_type": "code",
   "execution_count": null,
   "metadata": {},
   "outputs": [],
   "source": []
  },
  {
   "cell_type": "code",
   "execution_count": null,
   "metadata": {},
   "outputs": [],
   "source": []
  },
  {
   "cell_type": "code",
   "execution_count": null,
   "metadata": {},
   "outputs": [],
   "source": []
  },
  {
   "cell_type": "code",
   "execution_count": null,
   "metadata": {},
   "outputs": [],
   "source": []
  },
  {
   "cell_type": "code",
   "execution_count": null,
   "metadata": {},
   "outputs": [],
   "source": []
  },
  {
   "cell_type": "code",
   "execution_count": null,
   "metadata": {},
   "outputs": [],
   "source": []
  },
  {
   "cell_type": "code",
   "execution_count": 43,
   "metadata": {},
   "outputs": [
    {
     "name": "stderr",
     "output_type": "stream",
     "text": [
      " * Running on http://localhost:9000/ (Press CTRL+C to quit)\n",
      "127.0.0.1 - - [13/Aug/2020 09:32:44] \"\u001b[37mGET / HTTP/1.1\u001b[0m\" 200 -\n",
      "127.0.0.1 - - [13/Aug/2020 09:33:01] \"\u001b[31m\u001b[1mPOST /templates HTTP/1.1\u001b[0m\" 400 -\n"
     ]
    }
   ],
   "source": [
    "app = Flask(__name__)\n",
    "model = pickle.load(open('model.pkl','rb'))\n",
    "@app.route('/templates', methods=['POST'])\n",
    "def QA_model():\n",
    "    question = request.form['ques']\n",
    "    print(question)\n",
    "    context = request.form['context']\n",
    "    print(context)\n",
    "    answer = model.predict(question,context)\n",
    "    \n",
    "    return render_template('index.html', output=answer)\n",
    "\n",
    "@app.route('/')\n",
    "def home():\n",
    "    return render_template('index.html')\n",
    "\n",
    "if __name__ == '__main__':\n",
    "    from werkzeug.serving import run_simple\n",
    "    run_simple('localhost', 9000, app)"
   ]
  },
  {
   "cell_type": "code",
   "execution_count": null,
   "metadata": {},
   "outputs": [],
   "source": []
  },
  {
   "cell_type": "code",
   "execution_count": null,
   "metadata": {},
   "outputs": [],
   "source": []
  },
  {
   "cell_type": "code",
   "execution_count": null,
   "metadata": {},
   "outputs": [],
   "source": []
  },
  {
   "cell_type": "code",
   "execution_count": null,
   "metadata": {},
   "outputs": [],
   "source": []
  },
  {
   "cell_type": "code",
   "execution_count": null,
   "metadata": {},
   "outputs": [],
   "source": []
  },
  {
   "cell_type": "code",
   "execution_count": null,
   "metadata": {},
   "outputs": [],
   "source": []
  },
  {
   "cell_type": "code",
   "execution_count": null,
   "metadata": {},
   "outputs": [],
   "source": []
  },
  {
   "cell_type": "code",
   "execution_count": null,
   "metadata": {},
   "outputs": [],
   "source": []
  }
 ],
 "metadata": {
  "kernelspec": {
   "display_name": "Python 3",
   "language": "python",
   "name": "python3"
  },
  "language_info": {
   "codemirror_mode": {
    "name": "ipython",
    "version": 3
   },
   "file_extension": ".py",
   "mimetype": "text/x-python",
   "name": "python",
   "nbconvert_exporter": "python",
   "pygments_lexer": "ipython3",
   "version": "3.8.3"
  }
 },
 "nbformat": 4,
 "nbformat_minor": 4
}
